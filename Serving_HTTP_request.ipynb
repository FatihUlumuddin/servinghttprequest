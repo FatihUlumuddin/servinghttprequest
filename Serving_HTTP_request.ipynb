{
  "nbformat": 4,
  "nbformat_minor": 0,
  "metadata": {
    "colab": {
      "provenance": [],
      "authorship_tag": "ABX9TyNniu2dbtET4Qx6pefhMleP",
      "include_colab_link": true
    },
    "kernelspec": {
      "name": "python3",
      "display_name": "Python 3"
    },
    "language_info": {
      "name": "python"
    }
  },
  "cells": [
    {
      "cell_type": "markdown",
      "metadata": {
        "id": "view-in-github",
        "colab_type": "text"
      },
      "source": [
        "<a href=\"https://colab.research.google.com/github/FatihUlumuddin/servinghttprequest/blob/main/Serving_HTTP_request.ipynb\" target=\"_parent\"><img src=\"https://colab.research.google.com/assets/colab-badge.svg\" alt=\"Open In Colab\"/></a>"
      ]
    },
    {
      "cell_type": "code",
      "execution_count": null,
      "metadata": {
        "colab": {
          "base_uri": "https://localhost:8080/"
        },
        "id": "C2FIbnGDL4Ur",
        "outputId": "a53833f5-64c5-44ed-94c7-fc92dc596c94"
      },
      "outputs": [
        {
          "output_type": "stream",
          "name": "stdout",
          "text": [
            "Custom HTTP server started on port: 8800\n"
          ]
        }
      ],
      "source": [
        "import argparse\n",
        "from http.server import BaseHTTPRequestHandler, HTTPServer\n",
        "\n",
        "DEFAULT_HOST = '127.0.0.1'\n",
        "DEFAULT_PORT = 8800\n",
        "\n",
        "\n",
        "class RequestHandler(BaseHTTPRequestHandler):\n",
        "    \"\"\"Custom request handler\"\"\"\n",
        "\n",
        "    def do_GET(self):\n",
        "        \"\"\"Handler for the GET requests\"\"\"\n",
        "        self.send_response(200)\n",
        "        self.send_header('Content-type', 'text/html')\n",
        "        self.end_headers()\n",
        "        # Send the message to the browser\n",
        "        self.wfile.write(b\"Hello from server!\")  # Use bytes for Python 3\n",
        "        return\n",
        "\n",
        "\n",
        "class CustomHTTPServer(HTTPServer):\n",
        "    \"\"\"A custom HTTP server\"\"\"\n",
        "\n",
        "    def __init__(self, host, port):\n",
        "        server_address = (host, port)\n",
        "        HTTPServer.__init__(self, server_address, RequestHandler)\n",
        "\n",
        "\n",
        "def run_server(port):\n",
        "    try:\n",
        "        server = CustomHTTPServer(DEFAULT_HOST, port)\n",
        "        print(f\"Custom HTTP server started on port: {port}\")\n",
        "        server.serve_forever()\n",
        "    except Exception as err:\n",
        "        print(f\"Error: {err}\")\n",
        "    except KeyboardInterrupt:\n",
        "        print(\"Server interrupted and is shutting down...\")\n",
        "        if server:\n",
        "            server.socket.close()\n",
        "\n",
        "\n",
        "if __name__ == \"__main__\":\n",
        "    import sys\n",
        "\n",
        "    # Check if the script is running in Colab\n",
        "    if \"google.colab\" in sys.modules:\n",
        "        port = DEFAULT_PORT\n",
        "    else:\n",
        "        parser = argparse.ArgumentParser(description='Simple HTTP Server Example')\n",
        "        parser.add_argument('--port', action=\"store\", dest=\"port\", type=int, default=DEFAULT_PORT)\n",
        "        given_args = parser.parse_args()\n",
        "        port = given_args.port\n",
        "\n",
        "    run_server(port)\n"
      ]
    }
  ]
}